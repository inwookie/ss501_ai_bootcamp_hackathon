{
 "cells": [
  {
   "cell_type": "markdown",
   "id": "ffe155da",
   "metadata": {},
   "source": [
    "참고 : https://western-sky.tistory.com/15"
   ]
  },
  {
   "cell_type": "code",
   "execution_count": 1,
   "id": "95099389",
   "metadata": {},
   "outputs": [],
   "source": [
    "import pandas as pd\n",
    "import numpy as np\n",
    "import matplotlib.pyplot as plt\n",
    "import seaborn as sns\n",
    "import warnings\n",
    "import plotly.express as px\n",
    "\n",
    "from sklearn.linear_model import LinearRegression\n",
    "from sklearn.model_selection import train_test_split\n",
    "from sklearn.metrics import mean_squared_error, mean_absolute_error, r2_score\n",
    "\n",
    "warnings.filterwarnings('ignore')\n",
    "pd.set_option('display.max_rows', 400)"
   ]
  },
  {
   "cell_type": "markdown",
   "id": "1a9fda57",
   "metadata": {},
   "source": [
    "csv 파일 읽기\n",
    "\n",
    "데이터셋 출처 <br>\n",
    "DVM Car Dataset : https://deepvisualmarketing.github.io/"
   ]
  },
  {
   "cell_type": "code",
   "execution_count": 2,
   "id": "11756ecd",
   "metadata": {},
   "outputs": [],
   "source": [
    "data = pd.read_csv(r'Edited_Trim_table.csv')\n",
    "used_car = data.copy()"
   ]
  },
  {
   "cell_type": "markdown",
   "id": "69aebe3a",
   "metadata": {},
   "source": [
    "모델을 작성하기전에 데이터 형태를 확인"
   ]
  },
  {
   "cell_type": "markdown",
   "id": "07cbeaed",
   "metadata": {},
   "source": [
    "* Genmodel_ID : Genmodel의 ID\n",
    "* Maker : 차의 브랜드, 메이커\n",
    "* Genmodel : 차의 모델명\n",
    "* Trim : 옵션을 포함한 차의 모델명\n",
    "* Year : 판매된 연도\n",
    "* Price : 그 연도에 판매된 가격\n",
    "* Gas_emission : 가스 배출\n",
    "* Fuel_type : 연료의 타입\n",
    "* Engine_size : 엔진 사이즈\n",
    "* Entry_price : 제일 싼 판매 가격"
   ]
  },
  {
   "cell_type": "code",
   "execution_count": 3,
   "id": "82b26f36",
   "metadata": {
    "scrolled": false
   },
   "outputs": [
    {
     "name": "stdout",
     "output_type": "stream",
     "text": [
      "<class 'pandas.core.frame.DataFrame'>\n",
      "RangeIndex: 335562 entries, 0 to 335561\n",
      "Data columns (total 10 columns):\n",
      " #   Column        Non-Null Count   Dtype  \n",
      "---  ------        --------------   -----  \n",
      " 0   Genmodel_ID   335562 non-null  object \n",
      " 1   Maker         335562 non-null  object \n",
      " 2   Genmodel      335562 non-null  object \n",
      " 3   Trim          335562 non-null  object \n",
      " 4   Year          335562 non-null  int64  \n",
      " 5   Price         335562 non-null  int64  \n",
      " 6   Gas_emission  335562 non-null  int64  \n",
      " 7   Fuel_type     335562 non-null  object \n",
      " 8   Engine_size   335562 non-null  int64  \n",
      " 9   Entry_price   335562 non-null  float64\n",
      "dtypes: float64(1), int64(4), object(5)\n",
      "memory usage: 25.6+ MB\n"
     ]
    }
   ],
   "source": [
    "used_car.info()"
   ]
  },
  {
   "cell_type": "markdown",
   "id": "ad10af64",
   "metadata": {},
   "source": [
    "null은 없지만 <br>\n",
    "year은 숫자보다는 str 형태로 <br>\n",
    "Entry_price는 int 형태로 바꾸는 편이 나아보인다"
   ]
  },
  {
   "cell_type": "code",
   "execution_count": 5,
   "id": "a060a2ed",
   "metadata": {},
   "outputs": [],
   "source": [
    "used_car['Year'] = used_car['Year'].astype(str)"
   ]
  },
  {
   "cell_type": "code",
   "execution_count": 6,
   "id": "302748c0",
   "metadata": {},
   "outputs": [],
   "source": [
    "used_car['Entry_price'] = used_car['Entry_price'].astype(int)"
   ]
  },
  {
   "cell_type": "code",
   "execution_count": 7,
   "id": "8b7d60d9",
   "metadata": {
    "scrolled": true
   },
   "outputs": [
    {
     "name": "stdout",
     "output_type": "stream",
     "text": [
      "<class 'pandas.core.frame.DataFrame'>\n",
      "RangeIndex: 335562 entries, 0 to 335561\n",
      "Data columns (total 10 columns):\n",
      " #   Column        Non-Null Count   Dtype \n",
      "---  ------        --------------   ----- \n",
      " 0   Genmodel_ID   335562 non-null  object\n",
      " 1   Maker         335562 non-null  object\n",
      " 2   Genmodel      335562 non-null  object\n",
      " 3   Trim          335562 non-null  object\n",
      " 4   Year          335562 non-null  object\n",
      " 5   Price         335562 non-null  int64 \n",
      " 6   Gas_emission  335562 non-null  int64 \n",
      " 7   Fuel_type     335562 non-null  object\n",
      " 8   Engine_size   335562 non-null  int64 \n",
      " 9   Entry_price   335562 non-null  int32 \n",
      "dtypes: int32(1), int64(3), object(6)\n",
      "memory usage: 24.3+ MB\n"
     ]
    }
   ],
   "source": [
    "# 바꾼 뒤의 데이터 타입 확인\n",
    "used_car.info()"
   ]
  },
  {
   "cell_type": "markdown",
   "id": "e00dcf32",
   "metadata": {},
   "source": [
    "잘 바뀌었으니 다음으로 각 변수들의 상관관계를 파악한다"
   ]
  },
  {
   "cell_type": "code",
   "execution_count": 8,
   "id": "69a10d39",
   "metadata": {},
   "outputs": [
    {
     "data": {
      "text/html": [
       "<div>\n",
       "<style scoped>\n",
       "    .dataframe tbody tr th:only-of-type {\n",
       "        vertical-align: middle;\n",
       "    }\n",
       "\n",
       "    .dataframe tbody tr th {\n",
       "        vertical-align: top;\n",
       "    }\n",
       "\n",
       "    .dataframe thead th {\n",
       "        text-align: right;\n",
       "    }\n",
       "</style>\n",
       "<table border=\"1\" class=\"dataframe\">\n",
       "  <thead>\n",
       "    <tr style=\"text-align: right;\">\n",
       "      <th></th>\n",
       "      <th>Price</th>\n",
       "      <th>Gas_emission</th>\n",
       "      <th>Engine_size</th>\n",
       "      <th>Entry_price</th>\n",
       "    </tr>\n",
       "  </thead>\n",
       "  <tbody>\n",
       "    <tr>\n",
       "      <th>Price</th>\n",
       "      <td>1.000000</td>\n",
       "      <td>0.402581</td>\n",
       "      <td>0.735678</td>\n",
       "      <td>0.952523</td>\n",
       "    </tr>\n",
       "    <tr>\n",
       "      <th>Gas_emission</th>\n",
       "      <td>0.402581</td>\n",
       "      <td>1.000000</td>\n",
       "      <td>0.706309</td>\n",
       "      <td>0.385485</td>\n",
       "    </tr>\n",
       "    <tr>\n",
       "      <th>Engine_size</th>\n",
       "      <td>0.735678</td>\n",
       "      <td>0.706309</td>\n",
       "      <td>1.000000</td>\n",
       "      <td>0.664360</td>\n",
       "    </tr>\n",
       "    <tr>\n",
       "      <th>Entry_price</th>\n",
       "      <td>0.952523</td>\n",
       "      <td>0.385485</td>\n",
       "      <td>0.664360</td>\n",
       "      <td>1.000000</td>\n",
       "    </tr>\n",
       "  </tbody>\n",
       "</table>\n",
       "</div>"
      ],
      "text/plain": [
       "                 Price  Gas_emission  Engine_size  Entry_price\n",
       "Price         1.000000      0.402581     0.735678     0.952523\n",
       "Gas_emission  0.402581      1.000000     0.706309     0.385485\n",
       "Engine_size   0.735678      0.706309     1.000000     0.664360\n",
       "Entry_price   0.952523      0.385485     0.664360     1.000000"
      ]
     },
     "execution_count": 8,
     "metadata": {},
     "output_type": "execute_result"
    }
   ],
   "source": [
    "used_car.corr()"
   ]
  },
  {
   "cell_type": "code",
   "execution_count": 9,
   "id": "b1707591",
   "metadata": {
    "scrolled": true
   },
   "outputs": [
    {
     "data": {
      "text/plain": [
       "<AxesSubplot:>"
      ]
     },
     "execution_count": 9,
     "metadata": {},
     "output_type": "execute_result"
    },
    {
     "data": {
      "image/png": "[encoded data removed]",
      "text/plain": [
       "<Figure size 432x288 with 2 Axes>"
      ]
     },
     "metadata": {
      "needs_background": "light"
     },
     "output_type": "display_data"
    }
   ],
   "source": [
    "corr = used_car.corr()\n",
    "sns.heatmap(corr, cmap='RdBu')"
   ]
  },
  {
   "cell_type": "markdown",
   "id": "0dcf07f0",
   "metadata": {},
   "source": [
    "Price와 Entry_price 간의 아주 높은 상관관계가 보인다"
   ]
  },
  {
   "cell_type": "markdown",
   "id": "82a7bc97",
   "metadata": {},
   "source": [
    "# 타겟값 price와 brand의 이상치를 확인한다.\n",
    "# 제 컴퓨터에서 렉이 너무 심하게 걸려서\n",
    "# 이 셀은 잠시 마크다운으로 바꿨습니다\n",
    "fig = px.scatter(used_car, x='Entry_price', y='Price')\n",
    "fig.show()"
   ]
  },
  {
   "cell_type": "markdown",
   "id": "0d220750",
   "metadata": {},
   "source": [
    "확인해보니 꽤나 깔끔한 비례 관계가 보인다 <br>\n",
    "따라서 모델은 선형모델을 선정했다"
   ]
  },
  {
   "cell_type": "code",
   "execution_count": 10,
   "id": "8ea319d3",
   "metadata": {},
   "outputs": [],
   "source": [
    "# 타겟 데이터\n",
    "y_target = used_car['Price']\n",
    "# 피처 데이터\n",
    "X_features = used_car['Entry_price']\n",
    "\n",
    "# test_split_split()으로 train,test set 분리\n",
    "# X_train, y_train은 학습용 데이터 셋, X_test는 예측용, y_test는 예측한 것과 비교할 평가용\n",
    "X_train, X_test, y_train, y_test = train_test_split(X_features, y_target, test_size=0.3, random_state=77)"
   ]
  },
  {
   "cell_type": "code",
   "execution_count": 11,
   "id": "6965ce08",
   "metadata": {},
   "outputs": [
    {
     "name": "stdout",
     "output_type": "stream",
     "text": [
      "MSE : 25812749.262, RMSE : 5080.6249\n",
      "R_Square : 0.907\n"
     ]
    }
   ],
   "source": [
    "# LinearRegression() 모델로 학습\n",
    "linear_reg = LinearRegression()\n",
    "linear_reg.fit(X_train.values.reshape(-1,1), y_train)\n",
    "# LinearRegression() 모델로 예측\n",
    "y_preds = linear_reg.predict(X_test.values.reshape(-1,1))\n",
    "mse = mean_squared_error(y_test, y_preds)\n",
    "rmse = np.sqrt(mse)\n",
    "r_square = r2_score(y_test, y_preds)\n",
    "\n",
    "print('MSE : {0:.3f}, RMSE : {1:.4f}'.format(mse, rmse))\n",
    "print('R_Square : {0:.3f}'.format(r_square))"
   ]
  },
  {
   "cell_type": "code",
   "execution_count": 15,
   "id": "fa51c487",
   "metadata": {},
   "outputs": [
    {
     "data": {
      "text/plain": [
       "19521.78382243432"
      ]
     },
     "execution_count": 15,
     "metadata": {},
     "output_type": "execute_result"
    }
   ],
   "source": [
    "linear_reg.predict([[13945]])[0]"
   ]
  },
  {
   "cell_type": "code",
   "execution_count": 4,
   "id": "8d9c1339",
   "metadata": {
    "scrolled": true
   },
   "outputs": [
    {
     "name": "stderr",
     "output_type": "stream",
     "text": [
      "ERROR: unknown command \"pytorch\"\n",
      "\n"
     ]
    }
   ],
   "source": [
    "# 모델을 파이토치 save 형태로 저장\n",
    "# 이상하게 제 컴퓨터에서 주피터로 파이토치를 깔려고하면 설치가 안되네요..\n",
    "import torch"
   ]
  },
  {
   "cell_type": "code",
   "execution_count": 39,
   "id": "6f576eb4",
   "metadata": {},
   "outputs": [],
   "source": [
    "# 모델 save\n",
    "torch.save(linear_reg, 'linear.pt')"
   ]
  },
  {
   "cell_type": "markdown",
   "id": "d5c3ec8b",
   "metadata": {},
   "source": [
    "나중에 해야할 것 : 이상치 찾아서 제거하기, 다른 값들도 선형 회귀에 넣을 수는 없을까 고민해보기"
   ]
  },
  {
   "cell_type": "code",
   "execution_count": null,
   "id": "268b904b",
   "metadata": {},
   "outputs": [],
   "source": []
  }
 ],
 "metadata": {
  "kernelspec": {
   "display_name": "Python 3 (ipykernel)",
   "language": "python",
   "name": "python3"
  },
  "language_info": {
   "codemirror_mode": {
    "name": "ipython",
    "version": 3
   },
   "file_extension": ".py",
   "mimetype": "text/x-python",
   "name": "python",
   "nbconvert_exporter": "python",
   "pygments_lexer": "ipython3",
   "version": "3.10.1"
  }
 },
 "nbformat": 4,
 "nbformat_minor": 5
}
